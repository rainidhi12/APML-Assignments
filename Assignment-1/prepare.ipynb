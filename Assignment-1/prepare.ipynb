{
 "cells": [
  {
   "cell_type": "code",
   "execution_count": 1,
   "id": "34aa5616",
   "metadata": {},
   "outputs": [],
   "source": [
    "# Import necessary libraries\n",
    "from sklearn.model_selection import train_test_split\n",
    "from nltk.corpus import stopwords\n",
    "from nltk.tokenize import word_tokenize\n",
    "import pandas as pd\n",
    "import re\n",
    "\n",
    "def read_dataset(file_path):\n",
    "    \"\"\"Reads data from a given file path\"\"\"\n",
    "    return pd.read_csv(file_path)\n",
    "\n",
    "def clean_text(text):\n",
    "    \"\"\"Cleans the text data\"\"\"\n",
    "    text = text.lower().strip()\n",
    "    text = re.sub(r\"[^a-zA_Z\\d\\s]\", \"\", text)\n",
    "    stop_words = stopwords.words(\"english\")\n",
    "    words = word_tokenize(text)\n",
    "    return \" \".join(word for word in words if word not in stop_words)\n",
    "\n",
    "def clean_data(data):\n",
    "    \"\"\"Cleans the data\"\"\"\n",
    "    data = data.dropna()\n",
    "    data[\"text\"] = data[\"text\"].apply(clean_text)\n",
    "    return data.drop_duplicates(subset=\"text\")\n",
    "\n",
    "def partition_data(data):\n",
    "    \"\"\"Partitions the data into train/validation/test sets\"\"\"\n",
    "    train_set, test_set = train_test_split(data, test_size = 0.2, random_state = 42)\n",
    "    val_set, test_set = train_test_split(test_set, test_size = 0.5, random_state = 42)\n",
    "    return train_set, val_set, test_set\n",
    "\n",
    "def save_splits(train_set, val_set, test_set):\n",
    "    \"\"\"Saves the splits at train.csv, validation.csv, and test.csv\"\"\"\n",
    "    train_set.to_csv(\"train.csv\", index = False)\n",
    "    val_set.to_csv(\"validation.csv\", index = False)\n",
    "    test_set.to_csv(\"test.csv\", index = False)\n",
    "\n",
    "# Read, clean, partition, and save data\n",
    "dataset = read_dataset(\"spam_email_dataset.csv\")\n",
    "dataset = clean_data(dataset)\n",
    "train_set, val_set, test_set = partition_data(dataset)\n",
    "save_splits(train_set, val_set, test_set)\n"
   ]
  },
  {
   "cell_type": "code",
   "execution_count": null,
   "id": "1f3bbdab",
   "metadata": {},
   "outputs": [],
   "source": []
  }
 ],
 "metadata": {
  "kernelspec": {
   "display_name": "Python 3 (ipykernel)",
   "language": "python",
   "name": "python3"
  },
  "language_info": {
   "codemirror_mode": {
    "name": "ipython",
    "version": 3
   },
   "file_extension": ".py",
   "mimetype": "text/x-python",
   "name": "python",
   "nbconvert_exporter": "python",
   "pygments_lexer": "ipython3",
   "version": "3.9.12"
  }
 },
 "nbformat": 4,
 "nbformat_minor": 5
}
