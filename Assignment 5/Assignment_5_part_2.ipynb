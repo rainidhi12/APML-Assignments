{
  "nbformat": 4,
  "nbformat_minor": 0,
  "metadata": {
    "colab": {
      "provenance": [],
      "gpuType": "T4"
    },
    "kernelspec": {
      "name": "python3",
      "display_name": "Python 3"
    },
    "language_info": {
      "name": "python"
    },
    "accelerator": "GPU"
  },
  "cells": [
    {
      "cell_type": "markdown",
      "source": [
        "# Assignment 5(ii)\n",
        "# Nidhi\n",
        "# MDS202222"
      ],
      "metadata": {
        "id": "yByI_fjL8eH4"
      }
    },
    {
      "cell_type": "code",
      "execution_count": 15,
      "metadata": {
        "id": "27zw1DVKQoXm"
      },
      "outputs": [],
      "source": [
        "import torch\n",
        "from torch.utils.data import DataLoader, Dataset\n",
        "from transformers import BertTokenizer, BertForSequenceClassification, AdamW\n",
        "import pandas as pd\n",
        "from sklearn.metrics import confusion_matrix\n",
        "import seaborn as sns\n",
        "import matplotlib.pyplot as plt\n",
        "from sklearn.metrics import classification_report\n"
      ]
    },
    {
      "cell_type": "markdown",
      "source": [
        "# Authenticate and mount Google Drive\n"
      ],
      "metadata": {
        "id": "-ZfuDw-Pul-1"
      }
    },
    {
      "cell_type": "code",
      "execution_count": 2,
      "metadata": {
        "id": "UhUwXDFz7WJN"
      },
      "outputs": [],
      "source": [
        "from google.colab import auth\n",
        "auth.authenticate_user()"
      ]
    },
    {
      "cell_type": "code",
      "execution_count": 3,
      "metadata": {
        "colab": {
          "base_uri": "https://localhost:8080/"
        },
        "id": "fnNI1-Dk7Z88",
        "outputId": "b1bda721-7991-4f2e-f749-926f2ea1dbb7"
      },
      "outputs": [
        {
          "output_type": "stream",
          "name": "stdout",
          "text": [
            "Mounted at /content/drive\n"
          ]
        }
      ],
      "source": [
        "from google.colab import drive\n",
        "drive.mount('/content/drive', force_remount=True)"
      ]
    },
    {
      "cell_type": "markdown",
      "source": [
        "# Load training and test data\n"
      ],
      "metadata": {
        "id": "ttAqLyjVvzSB"
      }
    },
    {
      "cell_type": "code",
      "execution_count": 5,
      "metadata": {
        "id": "R5Roc4F4Y1i0"
      },
      "outputs": [],
      "source": [
        "train_df = pd.read_csv('/content/drive/My Drive/Assignment 5_2/train.csv', encoding=\"latin1\").dropna()\n",
        "test_df = pd.read_csv('/content/drive/My Drive/Assignment 5_2/test.csv', encoding=\"latin1\").dropna()\n"
      ]
    },
    {
      "cell_type": "markdown",
      "source": [
        "# Check if GPU is available\n"
      ],
      "metadata": {
        "id": "enne0vTUu7Nj"
      }
    },
    {
      "cell_type": "code",
      "execution_count": 6,
      "metadata": {
        "colab": {
          "base_uri": "https://localhost:8080/"
        },
        "id": "rM3kCdQ6cx73",
        "outputId": "7b3288b8-c46c-44d2-fade-b465cb441a69"
      },
      "outputs": [
        {
          "output_type": "stream",
          "name": "stdout",
          "text": [
            "Device: cuda\n"
          ]
        }
      ],
      "source": [
        "device = torch.device(\"cuda\" if torch.cuda.is_available() else \"cpu\")\n",
        "print(\"Device:\", device)\n"
      ]
    },
    {
      "cell_type": "markdown",
      "source": [
        "# Map sentiments to labels\n"
      ],
      "metadata": {
        "id": "MCNpOQ2Su3yX"
      }
    },
    {
      "cell_type": "code",
      "execution_count": 7,
      "metadata": {
        "id": "k1uisTzGdw5n"
      },
      "outputs": [],
      "source": [
        "sentiment_to_label = {'positive': 2, 'neutral': 1, 'negative': 0}\n",
        "train_df['label'] = train_df['sentiment'].map(sentiment_to_label)\n",
        "test_df['label'] = test_df['sentiment'].map(sentiment_to_label)\n"
      ]
    },
    {
      "cell_type": "code",
      "execution_count": 8,
      "metadata": {
        "id": "avrk6-l5LRs_"
      },
      "outputs": [],
      "source": [
        "class TextDataset(Dataset):\n",
        "    def __init__(self, dataframe, tokenizer, max_len=128):\n",
        "        self.dataframe = dataframe\n",
        "        self.tokenizer = tokenizer\n",
        "        self.max_len = max_len\n",
        "\n",
        "    def __len__(self):\n",
        "        return len(self.dataframe)\n",
        "\n",
        "    def __getitem__(self, idx):\n",
        "        row = self.dataframe.iloc[idx]\n",
        "        text, label = row['text'], row['label']\n",
        "        encoding = self.tokenizer.encode_plus(\n",
        "            text,\n",
        "            add_special_tokens=True,\n",
        "            max_length=self.max_len,\n",
        "            padding=\"max_length\",\n",
        "            truncation=True,\n",
        "            return_tensors=\"pt\",\n",
        "        )\n",
        "        return {\n",
        "            \"input_ids\": encoding[\"input_ids\"].flatten(),\n",
        "            \"attention_mask\": encoding[\"attention_mask\"].flatten(),\n",
        "            \"labels\": torch.tensor(label, dtype=torch.long),\n",
        "        }"
      ]
    },
    {
      "cell_type": "code",
      "execution_count": 9,
      "metadata": {
        "colab": {
          "base_uri": "https://localhost:8080/"
        },
        "id": "q2Ur8E6CLRqV",
        "outputId": "5d59c08a-ae09-409b-b402-da4df227f404"
      },
      "outputs": [
        {
          "output_type": "stream",
          "name": "stderr",
          "text": [
            "/usr/local/lib/python3.10/dist-packages/huggingface_hub/utils/_token.py:88: UserWarning: \n",
            "The secret `HF_TOKEN` does not exist in your Colab secrets.\n",
            "To authenticate with the Hugging Face Hub, create a token in your settings tab (https://huggingface.co/settings/tokens), set it as secret in your Google Colab and restart your session.\n",
            "You will be able to reuse this secret in all of your notebooks.\n",
            "Please note that authentication is recommended but still optional to access public models or datasets.\n",
            "  warnings.warn(\n",
            "Some weights of BertForSequenceClassification were not initialized from the model checkpoint at bert-base-uncased and are newly initialized: ['classifier.bias', 'classifier.weight']\n",
            "You should probably TRAIN this model on a down-stream task to be able to use it for predictions and inference.\n"
          ]
        }
      ],
      "source": [
        "tokenizer = BertTokenizer.from_pretrained(\"bert-base-uncased\")\n",
        "model = BertForSequenceClassification.from_pretrained(\"bert-base-uncased\", num_labels=3).to(device)"
      ]
    },
    {
      "cell_type": "code",
      "execution_count": 10,
      "metadata": {
        "id": "9hthuNunLRnZ"
      },
      "outputs": [],
      "source": [
        "train_dataset = TextDataset(train_df, tokenizer)\n",
        "test_dataset = TextDataset(test_df, tokenizer)\n",
        "\n",
        "train_loader = DataLoader(train_dataset, batch_size=8, shuffle=True)\n",
        "test_loader = DataLoader(test_dataset, batch_size=8, shuffle=False)\n"
      ]
    },
    {
      "cell_type": "code",
      "execution_count": 11,
      "metadata": {
        "colab": {
          "base_uri": "https://localhost:8080/"
        },
        "id": "Ccz50snsLRk7",
        "outputId": "9e665827-e9d9-4e0f-9ddc-2a911fa93d66"
      },
      "outputs": [
        {
          "output_type": "stream",
          "name": "stderr",
          "text": [
            "/usr/local/lib/python3.10/dist-packages/transformers/optimization.py:429: FutureWarning: This implementation of AdamW is deprecated and will be removed in a future version. Use the PyTorch implementation torch.optim.AdamW instead, or set `no_deprecation_warning=True` to disable this warning\n",
            "  warnings.warn(\n"
          ]
        }
      ],
      "source": [
        "optimizer = AdamW(model.parameters(), lr=2e-5)\n"
      ]
    },
    {
      "cell_type": "code",
      "execution_count": 12,
      "metadata": {
        "id": "wocH-YP4LRiP",
        "colab": {
          "base_uri": "https://localhost:8080/"
        },
        "outputId": "01543378-2030-435f-fd65-49e021e18e81"
      },
      "outputs": [
        {
          "output_type": "stream",
          "name": "stdout",
          "text": [
            "Epoch 1/2, Batch 1000/3435, Loss: 0.6952493786811829\n",
            "Epoch 1/2, Batch 2000/3435, Loss: 0.5286887288093567\n",
            "Epoch 1/2, Batch 3000/3435, Loss: 0.6776953935623169\n",
            "\n",
            "Epoch 1/2, Average Training Loss: 0.5691003273570642\n",
            "\n",
            "Epoch 2/2, Batch 1000/3435, Loss: 0.4824639558792114\n",
            "Epoch 2/2, Batch 2000/3435, Loss: 0.7633288502693176\n",
            "Epoch 2/2, Batch 3000/3435, Loss: 0.26101309061050415\n",
            "\n",
            "Epoch 2/2, Average Training Loss: 0.40176849288586663\n",
            "\n",
            "Epoch 3/2, Batch 1000/3435, Loss: 0.4389289915561676\n",
            "Epoch 3/2, Batch 2000/3435, Loss: 0.16751715540885925\n",
            "Epoch 3/2, Batch 3000/3435, Loss: 0.14346210658550262\n",
            "\n",
            "Epoch 3/2, Average Training Loss: 0.25630316545202614\n",
            "\n",
            "Epoch 4/2, Batch 1000/3435, Loss: 0.009396164678037167\n",
            "Epoch 4/2, Batch 2000/3435, Loss: 0.01238301582634449\n",
            "Epoch 4/2, Batch 3000/3435, Loss: 0.03909064456820488\n",
            "\n",
            "Epoch 4/2, Average Training Loss: 0.15072083964752742\n",
            "\n",
            "Epoch 5/2, Batch 1000/3435, Loss: 0.02421606332063675\n",
            "Epoch 5/2, Batch 2000/3435, Loss: 0.17116263508796692\n",
            "Epoch 5/2, Batch 3000/3435, Loss: 0.015122665092349052\n",
            "\n",
            "Epoch 5/2, Average Training Loss: 0.1038361352586914\n",
            "\n"
          ]
        }
      ],
      "source": [
        "for epoch in range(5):\n",
        "    model.train()\n",
        "    total_loss, total_batches = 0.0, 0\n",
        "    for batch_idx, batch in enumerate(train_loader):\n",
        "        optimizer.zero_grad()\n",
        "        batch = {k: v.to(device) for k, v in batch.items()}\n",
        "        outputs = model(**batch)\n",
        "        loss = outputs.loss\n",
        "        total_loss += loss.item()\n",
        "        loss.backward()\n",
        "        optimizer.step()\n",
        "        total_batches += 1\n",
        "\n",
        "        if batch_idx % 1000 == 999:\n",
        "            print(f\"Epoch {epoch+1}/2, Batch {batch_idx+1}/{len(train_loader)}, Loss: {loss.item()}\")\n",
        "\n",
        "    print(f\"\\nEpoch {epoch+1}/2, Average Training Loss: {total_loss / total_batches}\\n\")"
      ]
    },
    {
      "cell_type": "code",
      "execution_count": 13,
      "metadata": {
        "id": "ZqFP-CJ1LRfi"
      },
      "outputs": [],
      "source": [
        "# Switch model to evaluation mode\n",
        "model.eval()\n",
        "\n",
        "# Initialize lists for true labels and predictions\n",
        "actual_labels = []\n",
        "predicted_labels = []\n",
        "\n",
        "# Disable gradient calculations\n",
        "with torch.no_grad():\n",
        "    # Iterate over batches in the test loader\n",
        "    for data_batch in test_loader:\n",
        "        # Move batch tensors to the same device as the model\n",
        "        input_ids = data_batch[\"input_ids\"].to(device)\n",
        "        attention_mask = data_batch[\"attention_mask\"].to(device)\n",
        "        labels = data_batch[\"labels\"]\n",
        "\n",
        "        # Extend the actual labels list\n",
        "        actual_labels.extend(labels.tolist())\n",
        "\n",
        "        # Perform a forward pass through the model\n",
        "        model_output = model(input_ids=input_ids, attention_mask=attention_mask)\n",
        "\n",
        "        # Get the predicted labels\n",
        "        _, preds = torch.max(model_output.logits, 1)\n",
        "\n",
        "        # Extend the predicted labels list\n",
        "        predicted_labels.extend(preds.tolist())"
      ]
    },
    {
      "cell_type": "code",
      "source": [
        "# Print the classification report\n",
        "print(classification_report(actual_labels, predicted_labels, target_names=['negative', 'neutral', 'positive']))"
      ],
      "metadata": {
        "colab": {
          "base_uri": "https://localhost:8080/"
        },
        "id": "LjDltpM0udj5",
        "outputId": "a56ca48b-3a3d-4303-9ceb-94a00c6c3cef"
      },
      "execution_count": 16,
      "outputs": [
        {
          "output_type": "stream",
          "name": "stdout",
          "text": [
            "              precision    recall  f1-score   support\n",
            "\n",
            "    negative       0.73      0.82      0.77      1001\n",
            "     neutral       0.76      0.70      0.73      1430\n",
            "    positive       0.84      0.82      0.83      1103\n",
            "\n",
            "    accuracy                           0.77      3534\n",
            "   macro avg       0.77      0.78      0.78      3534\n",
            "weighted avg       0.77      0.77      0.77      3534\n",
            "\n"
          ]
        }
      ]
    },
    {
      "cell_type": "code",
      "execution_count": 17,
      "metadata": {
        "id": "FiNsKzIMLRc1",
        "colab": {
          "base_uri": "https://localhost:8080/",
          "height": 564
        },
        "outputId": "00aa0577-9681-44fa-ed20-aaa41bd7df55"
      },
      "outputs": [
        {
          "output_type": "display_data",
          "data": {
            "text/plain": [
              "<Figure size 800x600 with 2 Axes>"
            ],
            "image/png": "[encoded data removed]"
          },
          "metadata": {}
        }
      ],
      "source": [
        "# Compute the confusion matrix\n",
        "confusion_mat = confusion_matrix(actual_labels, predicted_labels)\n",
        "\n",
        "# Plot the confusion matrix\n",
        "plt.figure(figsize=(8, 6))\n",
        "sns.heatmap(confusion_mat, annot=True, fmt='d', cmap=\"Blues\", xticklabels=['negative', 'neutral', 'positive'], yticklabels=['negative', 'neutral', 'positive'])\n",
        "plt.xlabel('Predicted')\n",
        "plt.ylabel('True')\n",
        "plt.title('Confusion Matrix')\n",
        "plt.show()"
      ]
    },
    {
      "cell_type": "code",
      "execution_count": null,
      "metadata": {
        "id": "w-IK3SedLRaM"
      },
      "outputs": [],
      "source": []
    },
    {
      "cell_type": "code",
      "execution_count": null,
      "metadata": {
        "id": "ukwHKhzhLRXx"
      },
      "outputs": [],
      "source": []
    }
  ]
}