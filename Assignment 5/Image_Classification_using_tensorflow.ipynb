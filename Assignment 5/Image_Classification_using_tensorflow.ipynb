{
  "cells": [
    {
      "cell_type": "markdown",
      "source": [
        "# Assignment 5(i) using tensorflow\n",
        "# Nidhi\n",
        "# MDS202222"
      ],
      "metadata": {
        "id": "5rqDA9Oo84fE"
      }
    },
    {
      "cell_type": "markdown",
      "source": [
        "# Importing all th required libraries"
      ],
      "metadata": {
        "id": "Rrqc0NAj83sv"
      }
    },
    {
      "cell_type": "code",
      "execution_count": null,
      "metadata": {
        "id": "jwF3-EWewhwf"
      },
      "outputs": [],
      "source": [
        "import os\n",
        "import numpy as np\n",
        "import matplotlib.pyplot as plt\n",
        "import tensorflow as tf\n",
        "from tensorflow.keras.preprocessing.image import ImageDataGenerator\n",
        "from tensorflow.keras.applications import MobileNetV2\n",
        "from tensorflow.keras.layers import Dense, GlobalAveragePooling2D\n",
        "from tensorflow.keras.models import Model\n",
        "from sklearn.metrics import classification_report, confusion_matrix\n",
        "from tensorflow.keras.layers import Input, Lambda, Dense, Flatten,Dropout\n",
        "from tensorflow.keras.models import Model\n",
        "from tensorflow.keras.applications.vgg19 import VGG19\n",
        "from tensorflow.keras.applications.vgg19 import preprocess_input\n",
        "from tensorflow.keras.preprocessing import image\n",
        "from tensorflow.keras.preprocessing.image import ImageDataGenerator\n",
        "from tensorflow.keras.models import Sequential\n",
        "import pandas as pd\n",
        "import cv2\n"
      ]
    },
    {
      "cell_type": "markdown",
      "source": [
        "# Authenticate and mount Google Drive\n"
      ],
      "metadata": {
        "id": "jSdA30Yf9Je8"
      }
    },
    {
      "cell_type": "code",
      "execution_count": null,
      "metadata": {
        "id": "UhUwXDFz7WJN"
      },
      "outputs": [],
      "source": [
        "from google.colab import auth\n",
        "auth.authenticate_user()"
      ]
    },
    {
      "cell_type": "code",
      "execution_count": null,
      "metadata": {
        "colab": {
          "base_uri": "https://localhost:8080/"
        },
        "id": "fnNI1-Dk7Z88",
        "outputId": "561d779e-9ee6-4160-ee3b-a16616d93903"
      },
      "outputs": [
        {
          "output_type": "stream",
          "name": "stdout",
          "text": [
            "Mounted at /content/drive\n"
          ]
        }
      ],
      "source": [
        "from google.colab import drive\n",
        "drive.mount('/content/drive', force_remount=True)"
      ]
    },
    {
      "cell_type": "code",
      "execution_count": null,
      "metadata": {
        "id": "JMnvGAXs1KGh"
      },
      "outputs": [],
      "source": [
        "train_dir = '/content/drive/My Drive/Assignment-5/train'\n",
        "test_dir = '/content/drive/My Drive/Assignment-5/test1'\n",
        "val_dir = '/content/drive/My Drive/Assignment-5/val'\n"
      ]
    },
    {
      "cell_type": "markdown",
      "source": [
        "# Pre-processing of the images\n"
      ],
      "metadata": {
        "id": "7vrgxyIN9Uzd"
      }
    },
    {
      "cell_type": "code",
      "execution_count": null,
      "metadata": {
        "id": "fAFLkngGcwCg"
      },
      "outputs": [],
      "source": [
        "x_train=[]\n",
        "\n",
        "for folder in os.listdir(train_dir):\n",
        "\n",
        "    sub_path=train_dir+\"/\"+folder\n",
        "\n",
        "    for img in os.listdir(sub_path):\n",
        "\n",
        "        image_path=sub_path+\"/\"+img\n",
        "\n",
        "        img_arr=cv2.imread(image_path)\n",
        "\n",
        "        img_arr=cv2.resize(img_arr,(224,224))\n",
        "\n",
        "        x_train.append(img_arr)\n",
        "\n",
        "x_test=[]\n",
        "\n",
        "for folder in os.listdir(test_dir):\n",
        "\n",
        "    sub_path=test_dir+\"/\"+folder\n",
        "\n",
        "    for img in os.listdir(sub_path):\n",
        "\n",
        "        image_path=sub_path+\"/\"+img\n",
        "\n",
        "        img_arr=cv2.imread(image_path)\n",
        "\n",
        "        img_arr=cv2.resize(img_arr,(224,224))\n",
        "\n",
        "        x_test.append(img_arr)\n",
        "\n",
        "x_val=[]\n",
        "\n",
        "for folder in os.listdir(val_dir):\n",
        "\n",
        "    sub_path=val_dir+\"/\"+folder\n",
        "\n",
        "    for img in os.listdir(sub_path):\n",
        "\n",
        "        image_path=sub_path+\"/\"+img\n",
        "\n",
        "        img_arr=cv2.imread(image_path)\n",
        "\n",
        "        img_arr=cv2.resize(img_arr,(224,224))\n",
        "\n",
        "        x_val.append(img_arr)\n",
        "#Now, x_train,x_train and x_val must be divided by 255.0 for normalization.\n",
        "\n",
        "train_x=np.array(x_train)\n",
        "test_x=np.array(x_test)\n",
        "val_x=np.array(x_val)\n",
        "train_x=train_x/255.0\n",
        "test_x=test_x/255.0\n",
        "val_x=val_x/255.0\n"
      ]
    },
    {
      "cell_type": "code",
      "execution_count": null,
      "metadata": {
        "colab": {
          "base_uri": "https://localhost:8080/"
        },
        "id": "BntSwc-_822F",
        "outputId": "dc984894-be66-44da-c934-75451cf882cc"
      },
      "outputs": [
        {
          "output_type": "stream",
          "name": "stdout",
          "text": [
            "Found 168 images belonging to 2 classes.\n",
            "Found 50 images belonging to 2 classes.\n",
            "Found 50 images belonging to 2 classes.\n"
          ]
        }
      ],
      "source": [
        "train_datagen = ImageDataGenerator(rescale = 1./255)\n",
        "test_datagen = ImageDataGenerator(rescale = 1./255)\n",
        "val_datagen = ImageDataGenerator(rescale = 1./255)\n",
        "training_set = train_datagen.flow_from_directory(train_dir,\n",
        "                                                 target_size = (224, 224),\n",
        "                                                 batch_size = 32,\n",
        "                                                 class_mode = 'sparse')\n",
        "test_set = test_datagen.flow_from_directory(test_dir,\n",
        "                                            target_size = (224, 224),\n",
        "                                            batch_size = 32,\n",
        "                                            class_mode = 'sparse')\n",
        "\n",
        "val_set = val_datagen.flow_from_directory(val_dir,\n",
        "                                            target_size = (224, 224),\n",
        "                                            batch_size = 32,\n",
        "                                            class_mode = 'sparse')"
      ]
    },
    {
      "cell_type": "code",
      "execution_count": null,
      "metadata": {
        "id": "dM0yFl9BVQsN"
      },
      "outputs": [],
      "source": [
        "train_y=training_set.classes\n",
        "val_y=val_set.classes\n",
        "test_y=test_set.classes\n"
      ]
    },
    {
      "cell_type": "code",
      "execution_count": null,
      "metadata": {
        "colab": {
          "base_uri": "https://localhost:8080/"
        },
        "id": "8Naj45qLVXao",
        "outputId": "3dbf33f5-4864-4497-acff-0f49bd17e082"
      },
      "outputs": [
        {
          "output_type": "execute_result",
          "data": {
            "text/plain": [
              "((168,), (50,), (50,))"
            ]
          },
          "metadata": {},
          "execution_count": 9
        }
      ],
      "source": [
        "training_set.class_indices\n",
        "train_y.shape,val_y.shape,test_y.shape"
      ]
    },
    {
      "cell_type": "markdown",
      "source": [
        "# Model Building"
      ],
      "metadata": {
        "id": "e7-e7r5N9cXG"
      }
    },
    {
      "cell_type": "code",
      "execution_count": null,
      "metadata": {
        "id": "riFEHbK0meEc",
        "colab": {
          "base_uri": "https://localhost:8080/"
        },
        "outputId": "310e1aad-ce61-4873-9592-a09b8d763d74"
      },
      "outputs": [
        {
          "output_type": "stream",
          "name": "stdout",
          "text": [
            "Downloading data from https://storage.googleapis.com/tensorflow/keras-applications/vgg19/vgg19_weights_tf_dim_ordering_tf_kernels_notop.h5\n",
            "80134624/80134624 [==============================] - 3s 0us/step\n"
          ]
        }
      ],
      "source": [
        "IMAGE_SIZE = [224, 224]\n",
        "\n",
        "vgg = VGG19(input_shape=IMAGE_SIZE + [3], weights='imagenet', include_top=False)\n"
      ]
    },
    {
      "cell_type": "code",
      "execution_count": null,
      "metadata": {
        "id": "8WPYFl9o9y6l"
      },
      "outputs": [],
      "source": [
        "for layer in vgg.layers:\n",
        "    layer.trainable = False\n"
      ]
    },
    {
      "cell_type": "code",
      "execution_count": null,
      "metadata": {
        "id": "QBIZAJIfbCxR"
      },
      "outputs": [],
      "source": [
        "x = Flatten()(vgg.output)\n",
        "#adding output layer.Softmax classifier is used as it is multi-class classification\n",
        "prediction = Dense(2, activation='softmax')(x)\n",
        "\n",
        "model = Model(inputs=vgg.input, outputs=prediction)"
      ]
    },
    {
      "cell_type": "code",
      "execution_count": null,
      "metadata": {
        "colab": {
          "base_uri": "https://localhost:8080/"
        },
        "id": "B3O9rYdDMQEd",
        "outputId": "10b066d6-b1cd-47d8-ae27-7b43836f597b"
      },
      "outputs": [
        {
          "output_type": "stream",
          "name": "stdout",
          "text": [
            "Model: \"model\"\n",
            "_________________________________________________________________\n",
            " Layer (type)                Output Shape              Param #   \n",
            "=================================================================\n",
            " input_1 (InputLayer)        [(None, 224, 224, 3)]     0         \n",
            "                                                                 \n",
            " block1_conv1 (Conv2D)       (None, 224, 224, 64)      1792      \n",
            "                                                                 \n",
            " block1_conv2 (Conv2D)       (None, 224, 224, 64)      36928     \n",
            "                                                                 \n",
            " block1_pool (MaxPooling2D)  (None, 112, 112, 64)      0         \n",
            "                                                                 \n",
            " block2_conv1 (Conv2D)       (None, 112, 112, 128)     73856     \n",
            "                                                                 \n",
            " block2_conv2 (Conv2D)       (None, 112, 112, 128)     147584    \n",
            "                                                                 \n",
            " block2_pool (MaxPooling2D)  (None, 56, 56, 128)       0         \n",
            "                                                                 \n",
            " block3_conv1 (Conv2D)       (None, 56, 56, 256)       295168    \n",
            "                                                                 \n",
            " block3_conv2 (Conv2D)       (None, 56, 56, 256)       590080    \n",
            "                                                                 \n",
            " block3_conv3 (Conv2D)       (None, 56, 56, 256)       590080    \n",
            "                                                                 \n",
            " block3_conv4 (Conv2D)       (None, 56, 56, 256)       590080    \n",
            "                                                                 \n",
            " block3_pool (MaxPooling2D)  (None, 28, 28, 256)       0         \n",
            "                                                                 \n",
            " block4_conv1 (Conv2D)       (None, 28, 28, 512)       1180160   \n",
            "                                                                 \n",
            " block4_conv2 (Conv2D)       (None, 28, 28, 512)       2359808   \n",
            "                                                                 \n",
            " block4_conv3 (Conv2D)       (None, 28, 28, 512)       2359808   \n",
            "                                                                 \n",
            " block4_conv4 (Conv2D)       (None, 28, 28, 512)       2359808   \n",
            "                                                                 \n",
            " block4_pool (MaxPooling2D)  (None, 14, 14, 512)       0         \n",
            "                                                                 \n",
            " block5_conv1 (Conv2D)       (None, 14, 14, 512)       2359808   \n",
            "                                                                 \n",
            " block5_conv2 (Conv2D)       (None, 14, 14, 512)       2359808   \n",
            "                                                                 \n",
            " block5_conv3 (Conv2D)       (None, 14, 14, 512)       2359808   \n",
            "                                                                 \n",
            " block5_conv4 (Conv2D)       (None, 14, 14, 512)       2359808   \n",
            "                                                                 \n",
            " block5_pool (MaxPooling2D)  (None, 7, 7, 512)         0         \n",
            "                                                                 \n",
            " flatten (Flatten)           (None, 25088)             0         \n",
            "                                                                 \n",
            " dense (Dense)               (None, 2)                 50178     \n",
            "                                                                 \n",
            "=================================================================\n",
            "Total params: 20074562 (76.58 MB)\n",
            "Trainable params: 50178 (196.01 KB)\n",
            "Non-trainable params: 20024384 (76.39 MB)\n",
            "_________________________________________________________________\n"
          ]
        }
      ],
      "source": [
        "model.summary()\n"
      ]
    },
    {
      "cell_type": "markdown",
      "source": [
        "# Compiling the model\n"
      ],
      "metadata": {
        "id": "KI_0PBKc9oK8"
      }
    },
    {
      "cell_type": "code",
      "execution_count": null,
      "metadata": {
        "id": "RygPsuIebIAJ"
      },
      "outputs": [],
      "source": [
        "model.compile(\n",
        "  loss='sparse_categorical_crossentropy',\n",
        "  optimizer=\"adam\",\n",
        "  metrics=['accuracy']\n",
        ")"
      ]
    },
    {
      "cell_type": "markdown",
      "source": [
        "# Fitting the model"
      ],
      "metadata": {
        "id": "LN09QdXV9tAX"
      }
    },
    {
      "cell_type": "code",
      "execution_count": null,
      "metadata": {
        "id": "XSn9iI8sbOGs"
      },
      "outputs": [],
      "source": [
        "from tensorflow.keras.callbacks import EarlyStopping\n",
        "early_stop=EarlyStopping(monitor='val_loss',mode='min',verbose=1,patience=5)\n",
        "#Early stopping to avoid overfitting of model"
      ]
    },
    {
      "cell_type": "code",
      "execution_count": null,
      "metadata": {
        "colab": {
          "base_uri": "https://localhost:8080/"
        },
        "id": "jLDj_mv3bSpL",
        "outputId": "ac34b5d9-987e-4550-ee15-d93d18696c90"
      },
      "outputs": [
        {
          "output_type": "stream",
          "name": "stdout",
          "text": [
            "Epoch 1/10\n",
            "6/6 [==============================] - 178s 30s/step - loss: 1.7147 - accuracy: 0.5000 - val_loss: 0.3938 - val_accuracy: 0.8600\n",
            "Epoch 2/10\n",
            "6/6 [==============================] - 168s 29s/step - loss: 0.5096 - accuracy: 0.7262 - val_loss: 0.5135 - val_accuracy: 0.7600\n",
            "Epoch 3/10\n",
            "6/6 [==============================] - 168s 29s/step - loss: 0.3006 - accuracy: 0.8571 - val_loss: 0.3617 - val_accuracy: 0.8400\n",
            "Epoch 4/10\n",
            "6/6 [==============================] - 176s 31s/step - loss: 0.1873 - accuracy: 0.9464 - val_loss: 0.1697 - val_accuracy: 0.9400\n",
            "Epoch 5/10\n",
            "6/6 [==============================] - 168s 29s/step - loss: 0.0744 - accuracy: 0.9762 - val_loss: 0.2107 - val_accuracy: 0.9000\n",
            "Epoch 6/10\n",
            "6/6 [==============================] - 169s 29s/step - loss: 0.0320 - accuracy: 0.9940 - val_loss: 0.1524 - val_accuracy: 0.9200\n",
            "Epoch 7/10\n",
            "6/6 [==============================] - 168s 29s/step - loss: 0.0227 - accuracy: 1.0000 - val_loss: 0.1354 - val_accuracy: 0.9400\n",
            "Epoch 8/10\n",
            "6/6 [==============================] - 173s 30s/step - loss: 0.0115 - accuracy: 1.0000 - val_loss: 0.1585 - val_accuracy: 0.9200\n",
            "Epoch 9/10\n",
            "6/6 [==============================] - 168s 29s/step - loss: 0.0120 - accuracy: 1.0000 - val_loss: 0.1631 - val_accuracy: 0.9200\n",
            "Epoch 10/10\n",
            "6/6 [==============================] - 168s 29s/step - loss: 0.0095 - accuracy: 1.0000 - val_loss: 0.1357 - val_accuracy: 0.9200\n"
          ]
        }
      ],
      "source": [
        "# fit the model\n",
        "history = model.fit(\n",
        "  train_x,\n",
        "  train_y,\n",
        "  validation_data=(val_x,val_y),\n",
        "  epochs=10,\n",
        "  callbacks=[early_stop],\n",
        "  batch_size=32,shuffle=True)"
      ]
    },
    {
      "cell_type": "code",
      "execution_count": null,
      "metadata": {
        "colab": {
          "base_uri": "https://localhost:8080/",
          "height": 843
        },
        "id": "DZ9oGTurbXAe",
        "outputId": "2e66cda6-b691-4c59-b35c-b2a87e309c10"
      },
      "outputs": [
        {
          "output_type": "display_data",
          "data": {
            "text/plain": [
              "<Figure size 640x480 with 1 Axes>"
            ],
            "image/png": "[encoded data removed]"
          },
          "metadata": {}
        },
        {
          "output_type": "display_data",
          "data": {
            "text/plain": [
              "<Figure size 640x480 with 1 Axes>"
            ],
            "image/png": "[encoded data removed]"
          },
          "metadata": {}
        }
      ],
      "source": [
        "# accuracies\n",
        "\n",
        "plt.plot(history.history['accuracy'], label='train acc')\n",
        "\n",
        "plt.plot(history.history['val_accuracy'], label='val acc')\n",
        "\n",
        "plt.legend()\n",
        "\n",
        "plt.savefig('vgg-acc-rps-1.png')\n",
        "\n",
        "plt.show()\n",
        "# loss\n",
        "plt.plot(history.history['loss'], label='train loss')\n",
        "plt.plot(history.history['val_loss'], label='val loss')\n",
        "plt.legend()\n",
        "plt.savefig('vgg-loss-rps-1.png')\n",
        "plt.show()\n"
      ]
    },
    {
      "cell_type": "markdown",
      "source": [
        "# Model Evaluation"
      ],
      "metadata": {
        "id": "IZF_2q_f9yNb"
      }
    },
    {
      "cell_type": "code",
      "execution_count": null,
      "metadata": {
        "colab": {
          "base_uri": "https://localhost:8080/"
        },
        "id": "ufs0N9g5n2jD",
        "outputId": "5d9baaba-e78a-42c3-d1ab-ee903742dcef"
      },
      "outputs": [
        {
          "output_type": "stream",
          "name": "stdout",
          "text": [
            "2/2 [==============================] - 37s 14s/step - loss: 0.2514 - accuracy: 0.9200\n"
          ]
        },
        {
          "output_type": "execute_result",
          "data": {
            "text/plain": [
              "[0.25139856338500977, 0.9200000166893005]"
            ]
          },
          "metadata": {},
          "execution_count": 18
        }
      ],
      "source": [
        "model.evaluate(test_x,test_y,batch_size=32)\n"
      ]
    },
    {
      "cell_type": "markdown",
      "source": [
        "# Confusion Matrix"
      ],
      "metadata": {
        "id": "QKYqQNaf92Kd"
      }
    },
    {
      "cell_type": "code",
      "execution_count": null,
      "metadata": {
        "colab": {
          "base_uri": "https://localhost:8080/"
        },
        "id": "KHYLBGPyoZtK",
        "outputId": "61a11eb7-0559-41bd-b28c-b47d51302411"
      },
      "outputs": [
        {
          "output_type": "stream",
          "name": "stdout",
          "text": [
            "2/2 [==============================] - 39s 14s/step\n",
            "              precision    recall  f1-score   support\n",
            "\n",
            "           0       0.92      0.92      0.92        25\n",
            "           1       0.92      0.92      0.92        25\n",
            "\n",
            "    accuracy                           0.92        50\n",
            "   macro avg       0.92      0.92      0.92        50\n",
            "weighted avg       0.92      0.92      0.92        50\n",
            "\n",
            "[[23  2]\n",
            " [ 2 23]]\n"
          ]
        }
      ],
      "source": [
        "y_pred=model.predict(test_x)\n",
        "y_pred=np.argmax(y_pred,axis=1)\n",
        "#get classification report\n",
        "print(classification_report(y_pred,test_y))\n",
        "#get confusion matrix\n",
        "print(confusion_matrix(y_pred,test_y))"
      ]
    },
    {
      "cell_type": "code",
      "execution_count": null,
      "metadata": {
        "id": "boXunfiCo5Cd"
      },
      "outputs": [],
      "source": []
    }
  ],
  "metadata": {
    "colab": {
      "provenance": []
    },
    "kernelspec": {
      "display_name": "Python 3",
      "name": "python3"
    },
    "language_info": {
      "name": "python"
    }
  },
  "nbformat": 4,
  "nbformat_minor": 0
}