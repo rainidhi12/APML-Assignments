{
 "cells": [
  {
   "cell_type": "code",
   "execution_count": 1,
   "id": "fbe4ff67",
   "metadata": {},
   "outputs": [],
   "source": [
    "import os\n",
    "\n",
    "os.environ[\"MLFLOW_TRACKING_URI\"] = \"http://localhost:5000\"\n"
   ]
  },
  {
   "cell_type": "code",
   "execution_count": 4,
   "id": "daa60714",
   "metadata": {},
   "outputs": [],
   "source": [
    "import pandas as pd\n",
    "from sklearn.feature_extraction.text import TfidfVectorizer\n",
    "from sklearn.linear_model import LogisticRegression\n",
    "from sklearn.pipeline import Pipeline\n",
    "from sklearn.model_selection import GridSearchCV\n",
    "from sklearn.metrics import classification_report, ConfusionMatrixDisplay, confusion_matrix, accuracy_score, precision_recall_curve, auc\n",
    "import matplotlib.pyplot as plt\n",
    "from sklearn.ensemble import RandomForestClassifier\n",
    "from sklearn.tree import DecisionTreeClassifier\n",
    "import mlflow\n",
    "from urllib.parse import urlparse\n",
    "import numpy as np\n",
    "from sklearn.svm import SVC\n",
    "\n"
   ]
  },
  {
   "cell_type": "code",
   "execution_count": 5,
   "id": "02af4ab4",
   "metadata": {},
   "outputs": [
    {
     "name": "stdout",
     "output_type": "stream",
     "text": [
      "\n",
      "Training and Evaluating Logistic Regression:\n",
      "\n",
      "Training Accuracy: 0.9936406995230525\n",
      "Validation Accuracy: 0.9872727272727273\n",
      "   Predicted values  Actual values\n",
      "0                 0              0\n",
      "1                 0              0\n",
      "2                 1              1\n",
      "3                 1              1\n",
      "4                 0              0\n",
      "5                 1              1\n",
      "6                 0              0\n",
      "7                 1              1\n",
      "8                 0              0\n",
      "9                 0              0\n"
     ]
    },
    {
     "name": "stderr",
     "output_type": "stream",
     "text": [
      "C:\\Users\\raini\\anaconda3\\lib\\site-packages\\_distutils_hack\\__init__.py:33: UserWarning: Setuptools is replacing distutils.\n",
      "  warnings.warn(\"Setuptools is replacing distutils.\")\n"
     ]
    },
    {
     "name": "stdout",
     "output_type": "stream",
     "text": [
      "\n",
      "Model (tfidf__max_features=2000.000000):\n",
      "Accuracy: 0.9800362976406534\n",
      "AUCPR: 0.9721434688377908 \n",
      "Confusion Matrix:\n",
      " [[395   2]\n",
      " [  9 145]] \n",
      " \n",
      "\n"
     ]
    },
    {
     "name": "stderr",
     "output_type": "stream",
     "text": [
      "Registered model 'Logistic Regression-classification-model' already exists. Creating a new version of this model...\n",
      "2024/02/21 22:25:43 INFO mlflow.store.model_registry.abstract_store: Waiting up to 300 seconds for model version to finish creation. Model name: Logistic Regression-classification-model, version 2\n",
      "Created version '2' of model 'Logistic Regression-classification-model'.\n",
      "Registered model 'Logistic Regression' already exists. Creating a new version of this model...\n",
      "2024/02/21 22:25:47 INFO mlflow.store.model_registry.abstract_store: Waiting up to 300 seconds for model version to finish creation. Model name: Logistic Regression, version 2\n",
      "Created version '2' of model 'Logistic Regression'.\n"
     ]
    },
    {
     "name": "stdout",
     "output_type": "stream",
     "text": [
      "\n",
      "Training and Evaluating Random Forest:\n",
      "\n",
      "Training Accuracy: 0.9997728821258233\n",
      "Validation Accuracy: 0.9872727272727273\n",
      "   Predicted values  Actual values\n",
      "0                 0              0\n",
      "1                 0              0\n",
      "2                 1              1\n",
      "3                 1              1\n",
      "4                 1              0\n",
      "5                 1              1\n",
      "6                 0              0\n",
      "7                 1              1\n",
      "8                 0              0\n",
      "9                 0              0\n",
      "\n",
      "Model (tfidf__max_features=2000.000000):\n",
      "Accuracy: 0.9782214156079855\n",
      "AUCPR: 0.9671774459660122 \n",
      "Confusion Matrix:\n",
      " [[392   5]\n",
      " [  7 147]] \n",
      " \n",
      "\n"
     ]
    },
    {
     "name": "stderr",
     "output_type": "stream",
     "text": [
      "Registered model 'Random Forest-classification-model' already exists. Creating a new version of this model...\n",
      "2024/02/21 22:26:11 INFO mlflow.store.model_registry.abstract_store: Waiting up to 300 seconds for model version to finish creation. Model name: Random Forest-classification-model, version 2\n",
      "Created version '2' of model 'Random Forest-classification-model'.\n",
      "Registered model 'Random Forest' already exists. Creating a new version of this model...\n",
      "2024/02/21 22:26:16 INFO mlflow.store.model_registry.abstract_store: Waiting up to 300 seconds for model version to finish creation. Model name: Random Forest, version 2\n",
      "Created version '2' of model 'Random Forest'.\n"
     ]
    },
    {
     "name": "stdout",
     "output_type": "stream",
     "text": [
      "\n",
      "Training and Evaluating Support Vector Machine:\n",
      "\n",
      "Training Accuracy: 0.9995457642516467\n",
      "Validation Accuracy: 0.9963636363636363\n",
      "   Predicted values  Actual values\n",
      "0                 0              0\n",
      "1                 0              0\n",
      "2                 1              1\n",
      "3                 1              1\n",
      "4                 0              0\n",
      "5                 1              1\n",
      "6                 0              0\n",
      "7                 1              1\n",
      "8                 0              0\n",
      "9                 0              0\n",
      "\n",
      "Model (tfidf__max_features=2000.000000):\n",
      "Accuracy: 0.9836660617059891\n",
      "AUCPR: 0.9769134049910917 \n",
      "Confusion Matrix:\n",
      " [[395   2]\n",
      " [  7 147]] \n",
      " \n",
      "\n"
     ]
    },
    {
     "name": "stderr",
     "output_type": "stream",
     "text": [
      "Registered model 'Support Vector Machine-classification-model' already exists. Creating a new version of this model...\n",
      "2024/02/21 22:27:26 INFO mlflow.store.model_registry.abstract_store: Waiting up to 300 seconds for model version to finish creation. Model name: Support Vector Machine-classification-model, version 2\n",
      "Created version '2' of model 'Support Vector Machine-classification-model'.\n",
      "Registered model 'Support Vector Machine' already exists. Creating a new version of this model...\n",
      "2024/02/21 22:27:30 INFO mlflow.store.model_registry.abstract_store: Waiting up to 300 seconds for model version to finish creation. Model name: Support Vector Machine, version 2\n",
      "Created version '2' of model 'Support Vector Machine'.\n"
     ]
    }
   ],
   "source": [
    "# Loading the datasets\n",
    "train = pd.read_csv(\"train.csv\")\n",
    "train_X, train_y = train.text, train.spam\n",
    "\n",
    "test = pd.read_csv(\"test.csv\")\n",
    "test_X, test_y = test.text, test.spam\n",
    "\n",
    "val = pd.read_csv(\"validation.csv\")\n",
    "val_X, val_y = val.text, val.spam\n",
    "\n",
    "# Defining models\n",
    "MODELS = {\n",
    "    \"Logistic Regression\": LogisticRegression(random_state = 1207, max_iter=2000),\n",
    "    \"Random Forest\": RandomForestClassifier(random_state = 1207),\n",
    "    \"Support Vector Machine\": SVC(random_state = 1207, probability=True),  # Enable probability estimates\n",
    "}\n",
    "\n",
    "\n",
    "def eval_metrics(actual_y, pred_y):\n",
    "    precision, recall, _ = precision_recall_curve(actual_y, pred_y)\n",
    "    return auc(recall, precision)\n",
    "\n",
    "# Define the function to build, track and register all three models using MLFlow\n",
    "def perform_training_and_benchmarking(model, model_name, train_X, train_y, val_X, val_y, test_X, test_y):\n",
    "    \"\"\"Trains and benchmarks model\"\"\"\n",
    "    print(f\"\\nTraining and Evaluating {model_name}:\\n\")\n",
    "    \n",
    "    pipeline = Pipeline([\n",
    "        ('tfidf', TfidfVectorizer(max_features=2000)),\n",
    "        ('clf', model),\n",
    "    ])\n",
    "\n",
    "    pipeline.fit(train_X, train_y)\n",
    "\n",
    "    train_score = pipeline.score(train_X, train_y)\n",
    "    validation_score = pipeline.score(val_X, val_y)\n",
    "\n",
    "    print(f'Training Accuracy: {train_score}')\n",
    "    print(f'Validation Accuracy: {validation_score}')\n",
    "\n",
    "    predict = pd.concat([pd.DataFrame(pipeline.predict(test_X)), pd.DataFrame(test_y.values)], axis=1)\n",
    "    predict.columns = [\"Predicted values\", \"Actual values\"]\n",
    "    print(predict.head(10))\n",
    "\n",
    "    y_pred = pipeline.predict(test_X)\n",
    "    aucpr = eval_metrics(test_y, y_pred)\n",
    "    acc = accuracy_score(test_y, y_pred)\n",
    "    conf = confusion_matrix(test_y, y_pred)\n",
    "\n",
    "    with mlflow.start_run(run_name=f\"{model_name}\"):\n",
    "        mlflow.log_param(\"tfidf__max_features\", 2000)\n",
    "        mlflow.log_metric(\"accuracy\", acc)\n",
    "        mlflow.log_metric(\"AUCPR\",aucpr)\n",
    "        mlflow.log_dict(np.array(conf).tolist(), \"confusion_matrix.json\")\n",
    "        mlflow.sklearn.log_model(pipeline, \"model\")\n",
    "\n",
    "        print(\"\\nModel (tfidf__max_features={:f}):\".format(2000))\n",
    "        print(f\"Accuracy: {acc}\")\n",
    "        print(f\"AUCPR: {aucpr} \")\n",
    "        print(f\"Confusion Matrix:\\n {conf} \\n \\n\")\n",
    "\n",
    "        tracking_url_type_store = urlparse(mlflow.get_tracking_uri()).scheme\n",
    "        mlflow.sklearn.log_model(\n",
    "            sk_model=pipeline,\n",
    "            artifact_path=\"sklearn-model\",\n",
    "            registered_model_name=f\"{model_name}-classification-model\"\n",
    "        )\n",
    "        if tracking_url_type_store != \"file\":\n",
    "            mlflow.sklearn.log_model(pipeline, \"model\", registered_model_name=f\"{model_name}\")\n",
    "        else:\n",
    "            mlflow.sklearn.log_model(pipeline, \"model\")\n",
    "\n",
    "models = sorted(MODELS.items())\n",
    "\n",
    "for model_name, model in models:\n",
    "    perform_training_and_benchmarking(model, model_name, train_X, train_y, val_X, val_y, test_X, test_y)\n",
    "\n"
   ]
  },
  {
   "cell_type": "code",
   "execution_count": null,
   "id": "7f546e89",
   "metadata": {},
   "outputs": [],
   "source": []
  }
 ],
 "metadata": {
  "kernelspec": {
   "display_name": "Python 3 (ipykernel)",
   "language": "python",
   "name": "python3"
  },
  "language_info": {
   "codemirror_mode": {
    "name": "ipython",
    "version": 3
   },
   "file_extension": ".py",
   "mimetype": "text/x-python",
   "name": "python",
   "nbconvert_exporter": "python",
   "pygments_lexer": "ipython3",
   "version": "3.9.12"
  }
 },
 "nbformat": 4,
 "nbformat_minor": 5
}
