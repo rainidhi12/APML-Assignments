{
 "cells": [
  {
   "cell_type": "code",
   "execution_count": 1,
   "id": "22879cad",
   "metadata": {},
   "outputs": [
    {
     "name": "stdout",
     "output_type": "stream",
     "text": [
      "Initialized empty Git repository in C:/Users/raini/Assignment-1/.git/\n"
     ]
    }
   ],
   "source": [
    "## Make this folder a git repo\n",
    "!git init"
   ]
  },
  {
   "cell_type": "code",
   "execution_count": 2,
   "id": "c830f906",
   "metadata": {},
   "outputs": [
    {
     "name": "stdout",
     "output_type": "stream",
     "text": [
      "Initialized DVC repository.\n",
      "\n",
      "You can now commit the changes to git.\n",
      "\n",
      "+---------------------------------------------------------------------+\n",
      "|                                                                     |\n",
      "|        DVC has enabled anonymous aggregate usage analytics.         |\n",
      "|     Read the analytics documentation (and how to opt-out) here:     |\n",
      "|             <https://dvc.org/doc/user-guide/analytics>              |\n",
      "|                                                                     |\n",
      "+---------------------------------------------------------------------+\n",
      "\n",
      "What's next?\n",
      "------------\n",
      "- Check out the documentation: <https://dvc.org/doc>\n",
      "- Get help and share ideas: <https://dvc.org/chat>\n",
      "- Star us on GitHub: <https://github.com/iterative/dvc>\n"
     ]
    }
   ],
   "source": [
    "## Stop git from tracking spam_email_dataset.csv\n",
    "!dvc  init"
   ]
  },
  {
   "cell_type": "code",
   "execution_count": 5,
   "id": "53d29d58",
   "metadata": {},
   "outputs": [
    {
     "name": "stdout",
     "output_type": "stream",
     "text": [
      "Setting 'storage' as a default remote.\n"
     ]
    }
   ],
   "source": [
    "!dvc remote add -d storage gdrive://1r6l9GWuioE5AohyGr8FxZXd9PumMkrU0\n"
   ]
  },
  {
   "cell_type": "code",
   "execution_count": null,
   "id": "5f43053e",
   "metadata": {},
   "outputs": [],
   "source": []
  },
  {
   "cell_type": "code",
   "execution_count": 8,
   "id": "34aa5616",
   "metadata": {},
   "outputs": [],
   "source": [
    "# Import necessary libraries\n",
    "from sklearn.model_selection import train_test_split\n",
    "from nltk.corpus import stopwords\n",
    "from nltk.tokenize import word_tokenize\n",
    "import pandas as pd\n",
    "import re\n",
    "\n",
    "def read_dataset(file_path):\n",
    "    \"\"\"Reads data from a given file path\"\"\"\n",
    "    return pd.read_csv(file_path)\n",
    "\n",
    "def clean_text(text):\n",
    "    \"\"\"Cleans the text data\"\"\"\n",
    "    text = text.lower().strip()\n",
    "    text = re.sub(r\"[^a-zA_Z\\d\\s]\", \"\", text)\n",
    "    stop_words = stopwords.words(\"english\")\n",
    "    words = word_tokenize(text)\n",
    "    return \" \".join(word for word in words if word not in stop_words)\n",
    "\n",
    "def clean_data(data):\n",
    "    \"\"\"Cleans the data\"\"\"\n",
    "    data = data.dropna()\n",
    "    data[\"text\"] = data[\"text\"].apply(clean_text)\n",
    "    return data.drop_duplicates(subset=\"text\")\n",
    "\n",
    "def partition_data(data):\n",
    "    \"\"\"Partitions the data into train/validation/test sets\"\"\"\n",
    "    train_set, test_set = train_test_split(data, test_size = 0.2, random_state = 42)\n",
    "    val_set, test_set = train_test_split(test_set, test_size = 0.5, random_state = 42)\n",
    "    return train_set, val_set, test_set\n",
    "\n",
    "def save_splits(train_set, val_set, test_set):\n",
    "    \"\"\"Saves the splits at train.csv, validation.csv, and test.csv\"\"\"\n",
    "    train_set.to_csv(\"train.csv\", index = False)\n",
    "    val_set.to_csv(\"validation.csv\", index = False)\n",
    "    test_set.to_csv(\"test.csv\", index = False)\n",
    "\n",
    "# Read, clean, partition, and save data\n",
    "dataset = read_dataset(\"spam_email_dataset.csv\")\n",
    "dataset = clean_data(dataset)\n",
    "train_set, val_set, test_set = partition_data(dataset)\n",
    "save_splits(train_set, val_set, test_set)\n"
   ]
  },
  {
   "cell_type": "code",
   "execution_count": 9,
   "id": "1b106f96",
   "metadata": {},
   "outputs": [
    {
     "name": "stdout",
     "output_type": "stream",
     "text": [
      "\n",
      "To track the changes with git, run:\n",
      "\n",
      "\tgit add test.csv.dvc .gitignore train.csv.dvc validation.csv.dvc\n",
      "\n",
      "To enable auto staging, run:\n",
      "\n",
      "\tdvc config core.autostage true\n"
     ]
    }
   ],
   "source": [
    "!dvc add test.csv train.csv validation.csv"
   ]
  },
  {
   "cell_type": "code",
   "execution_count": 10,
   "id": "dc61e4a7",
   "metadata": {},
   "outputs": [],
   "source": [
    "!git add validation.csv.dvc test.csv.dvc train.csv.dvc .gitignore\n"
   ]
  },
  {
   "cell_type": "code",
   "execution_count": 11,
   "id": "0a3ef3be",
   "metadata": {},
   "outputs": [
    {
     "name": "stdout",
     "output_type": "stream",
     "text": [
      "[master f4e9ed8] Random State 42\n",
      " 4 files changed, 18 insertions(+)\n",
      " create mode 100644 .gitignore\n",
      " create mode 100644 test.csv.dvc\n",
      " create mode 100644 train.csv.dvc\n",
      " create mode 100644 validation.csv.dvc\n"
     ]
    }
   ],
   "source": [
    "!git commit -m \"Random State 42\""
   ]
  },
  {
   "cell_type": "code",
   "execution_count": 18,
   "id": "5056cb2b",
   "metadata": {},
   "outputs": [
    {
     "name": "stdout",
     "output_type": "stream",
     "text": [
      "Your browser has been opened to visit:\n",
      "\n",
      "    https://accounts.google.com/o/oauth2/auth?client_id=710796635688-iivsgbgsb6uv1fap6635dhvuei09o66c.apps.googleusercontent.com&redirect_uri=http%3A%2F%2Flocalhost%3A8080%2F&scope=https%3A%2F%2Fwww.googleapis.com%2Fauth%2Fdrive+https%3A%2F%2Fwww.googleapis.com%2Fauth%2Fdrive.appdata&access_type=offline&response_type=code&approval_prompt=force\n",
      "\n",
      "Authentication successful.\n",
      "3 files pushed\n"
     ]
    },
    {
     "name": "stderr",
     "output_type": "stream",
     "text": [
      "C:\\Users\\raini\\anaconda3\\lib\\site-packages\\oauth2client\\_helpers.py:255: UserWarning: Cannot access C:\\Users\\raini\\AppData\\Local\\pydrive2fs\\Cache\\710796635688-iivsgbgsb6uv1fap6635dhvuei09o66c.apps.googleusercontent.com\\default.json: No such file or directory\n",
      "  warnings.warn(_MISSING_FILE_MESSAGE.format(filename))\n"
     ]
    }
   ],
   "source": [
    "!dvc push\n"
   ]
  },
  {
   "cell_type": "code",
   "execution_count": 25,
   "id": "b5195406",
   "metadata": {},
   "outputs": [],
   "source": [
    "train_set, test_set = train_test_split(dataset, test_size = 0.2, random_state =  123)\n",
    "val_set, test_set = train_test_split(test_set, test_size = 0.5, random_state = 123)\n",
    "save_splits(train_set, val_set, test_set)"
   ]
  },
  {
   "cell_type": "code",
   "execution_count": 26,
   "id": "98158d30",
   "metadata": {},
   "outputs": [
    {
     "name": "stdout",
     "output_type": "stream",
     "text": [
      "\n",
      "To track the changes with git, run:\n",
      "\n",
      "\tgit add validation.csv.dvc train.csv.dvc test.csv.dvc\n",
      "\n",
      "To enable auto staging, run:\n",
      "\n",
      "\tdvc config core.autostage true\n"
     ]
    }
   ],
   "source": [
    "!dvc add test.csv train.csv validation.csv"
   ]
  },
  {
   "cell_type": "code",
   "execution_count": 27,
   "id": "3ac74f6c",
   "metadata": {},
   "outputs": [],
   "source": [
    "!git add validation.csv.dvc test.csv.dvc train.csv.dvc .gitignore\n"
   ]
  },
  {
   "cell_type": "code",
   "execution_count": 28,
   "id": "f0e69d16",
   "metadata": {},
   "outputs": [
    {
     "name": "stdout",
     "output_type": "stream",
     "text": [
      "[master 46542f4] Random State 123\n",
      " 3 files changed, 6 insertions(+), 6 deletions(-)\n"
     ]
    }
   ],
   "source": [
    "!git commit -m \"Random State 123\""
   ]
  },
  {
   "cell_type": "code",
   "execution_count": 29,
   "id": "691bf506",
   "metadata": {},
   "outputs": [
    {
     "name": "stdout",
     "output_type": "stream",
     "text": [
      "3 files pushed\n"
     ]
    }
   ],
   "source": [
    "!dvc push\n"
   ]
  },
  {
   "cell_type": "code",
   "execution_count": 34,
   "id": "834fc662",
   "metadata": {},
   "outputs": [
    {
     "name": "stdout",
     "output_type": "stream",
     "text": [
      "commit 46542f4d9a41a9ccf1ad9edd6dd8fb69cd274d0d\n",
      "Author: Nidhi <nidhi@cmi.ac.in>\n",
      "Date:   Tue Feb 20 23:13:48 2024 +0530\n",
      "\n",
      "    Random State 123\n",
      "\n",
      "commit f4e9ed8ccbe6cd24afc180900dc562a2a7b34bf0\n",
      "Author: Nidhi <nidhi@cmi.ac.in>\n",
      "Date:   Tue Feb 20 22:56:11 2024 +0530\n",
      "\n",
      "    Random State 42\n",
      "\n",
      "commit e6551945628bec2ae57d940580361259f88e1ea3\n",
      "Author: Nidhi <nidhi@cmi.ac.in>\n",
      "Date:   Tue Feb 20 22:55:43 2024 +0530\n",
      "\n",
      "    dvc init\n"
     ]
    }
   ],
   "source": [
    "!git log \n"
   ]
  },
  {
   "cell_type": "code",
   "execution_count": 35,
   "id": "d2fabd65",
   "metadata": {},
   "outputs": [
    {
     "name": "stdout",
     "output_type": "stream",
     "text": [
      "46542f4 Random State 123\n",
      "f4e9ed8 Random State 42\n",
      "e655194 dvc init\n"
     ]
    }
   ],
   "source": [
    "!git log --oneline\n"
   ]
  },
  {
   "cell_type": "code",
   "execution_count": 40,
   "id": "7297b4b8",
   "metadata": {},
   "outputs": [
    {
     "name": "stderr",
     "output_type": "stream",
     "text": [
      "Updated 3 paths from d6205be\n"
     ]
    }
   ],
   "source": [
    "!git checkout f4e9ed8 train.csv.dvc test.csv.dvc validation.csv.dvc\n"
   ]
  },
  {
   "cell_type": "code",
   "execution_count": 41,
   "id": "96e63be2",
   "metadata": {},
   "outputs": [
    {
     "name": "stdout",
     "output_type": "stream",
     "text": [
      "M       validation.csv\n",
      "M       train.csv\n",
      "M       test.csv\n",
      "3 files modified\n"
     ]
    }
   ],
   "source": [
    "!dvc pull\n"
   ]
  },
  {
   "cell_type": "code",
   "execution_count": 42,
   "id": "acb8280d",
   "metadata": {},
   "outputs": [],
   "source": [
    "import matplotlib.pyplot as plt\n",
    "\n",
    "# helper function for printing the distribution of 0's and 1's in spam column of the dataset\n",
    "def display_distribution(dataset):\n",
    "    count_values = dataset['spam'].value_counts()\n",
    "    print(count_values)\n",
    "    count_values.plot(kind='bar')\n",
    "    plt.xlabel(\"Value\")\n",
    "    plt.ylabel(\"Frequency\")\n",
    "    plt.title(\"Distribution of 0's and 1's in the 'spam' column\")\n",
    "    plt.show()\n"
   ]
  },
  {
   "cell_type": "code",
   "execution_count": 43,
   "id": "98e3d358",
   "metadata": {},
   "outputs": [],
   "source": [
    "train = pd.read_csv('train.csv')\n",
    "test = pd.read_csv('test.csv')\n",
    "validation = pd.read_csv('validation.csv')"
   ]
  },
  {
   "cell_type": "code",
   "execution_count": 44,
   "id": "19123444",
   "metadata": {},
   "outputs": [
    {
     "name": "stdout",
     "output_type": "stream",
     "text": [
      "0    3328\n",
      "1    1075\n",
      "Name: spam, dtype: int64\n"
     ]
    },
    {
     "data": {
      "image/png": "[encoded data removed]",
      "text/plain": [
       "<Figure size 432x288 with 1 Axes>"
      ]
     },
     "metadata": {
      "needs_background": "light"
     },
     "output_type": "display_data"
    }
   ],
   "source": [
    "display_distribution(train)\n"
   ]
  },
  {
   "cell_type": "code",
   "execution_count": 45,
   "id": "5ca5d667",
   "metadata": {},
   "outputs": [
    {
     "name": "stdout",
     "output_type": "stream",
     "text": [
      "0    397\n",
      "1    154\n",
      "Name: spam, dtype: int64\n"
     ]
    },
    {
     "data": {
      "image/png": "[encoded data removed]",
      "text/plain": [
       "<Figure size 432x288 with 1 Axes>"
      ]
     },
     "metadata": {
      "needs_background": "light"
     },
     "output_type": "display_data"
    }
   ],
   "source": [
    "display_distribution(test)\n"
   ]
  },
  {
   "cell_type": "code",
   "execution_count": 47,
   "id": "cc6f8fd2",
   "metadata": {},
   "outputs": [
    {
     "name": "stdout",
     "output_type": "stream",
     "text": [
      "0    412\n",
      "1    138\n",
      "Name: spam, dtype: int64\n"
     ]
    },
    {
     "data": {
      "image/png": "[encoded data removed]",
      "text/plain": [
       "<Figure size 432x288 with 1 Axes>"
      ]
     },
     "metadata": {
      "needs_background": "light"
     },
     "output_type": "display_data"
    }
   ],
   "source": [
    "display_distribution(validation)\n"
   ]
  },
  {
   "cell_type": "code",
   "execution_count": 48,
   "id": "901eea8d",
   "metadata": {},
   "outputs": [
    {
     "name": "stderr",
     "output_type": "stream",
     "text": [
      "Updated 3 paths from 23e7b61\n"
     ]
    }
   ],
   "source": [
    "!git checkout 46542f4 train.csv.dvc test.csv.dvc validation.csv.dvc\n"
   ]
  },
  {
   "cell_type": "code",
   "execution_count": 52,
   "id": "79dc20e4",
   "metadata": {},
   "outputs": [
    {
     "name": "stdout",
     "output_type": "stream",
     "text": [
      "M       train.csv\n",
      "M       validation.csv\n",
      "M       test.csv\n",
      "3 files modified\n"
     ]
    }
   ],
   "source": [
    "!dvc pull"
   ]
  },
  {
   "cell_type": "code",
   "execution_count": 53,
   "id": "cb03a3ff",
   "metadata": {},
   "outputs": [],
   "source": [
    "train = pd.read_csv('train.csv')\n",
    "test = pd.read_csv('test.csv')\n",
    "validation = pd.read_csv('validation.csv')"
   ]
  },
  {
   "cell_type": "code",
   "execution_count": 54,
   "id": "00d0f567",
   "metadata": {},
   "outputs": [
    {
     "name": "stdout",
     "output_type": "stream",
     "text": [
      "0    3310\n",
      "1    1093\n",
      "Name: spam, dtype: int64\n"
     ]
    },
    {
     "data": {
      "image/png": "[encoded data removed]",
      "text/plain": [
       "<Figure size 432x288 with 1 Axes>"
      ]
     },
     "metadata": {
      "needs_background": "light"
     },
     "output_type": "display_data"
    }
   ],
   "source": [
    "display_distribution(train)\n"
   ]
  },
  {
   "cell_type": "code",
   "execution_count": 55,
   "id": "5cd0fe78",
   "metadata": {},
   "outputs": [
    {
     "name": "stdout",
     "output_type": "stream",
     "text": [
      "0    413\n",
      "1    138\n",
      "Name: spam, dtype: int64\n"
     ]
    },
    {
     "data": {
      "image/png": "[encoded data removed]",
      "text/plain": [
       "<Figure size 432x288 with 1 Axes>"
      ]
     },
     "metadata": {
      "needs_background": "light"
     },
     "output_type": "display_data"
    }
   ],
   "source": [
    "display_distribution(test)\n"
   ]
  },
  {
   "cell_type": "code",
   "execution_count": 56,
   "id": "020865a9",
   "metadata": {},
   "outputs": [
    {
     "name": "stdout",
     "output_type": "stream",
     "text": [
      "0    414\n",
      "1    136\n",
      "Name: spam, dtype: int64\n"
     ]
    },
    {
     "data": {
      "image/png": "[encoded data removed]",
      "text/plain": [
       "<Figure size 432x288 with 1 Axes>"
      ]
     },
     "metadata": {
      "needs_background": "light"
     },
     "output_type": "display_data"
    }
   ],
   "source": [
    "display_distribution(validation)\n"
   ]
  },
  {
   "cell_type": "code",
   "execution_count": null,
   "id": "a22a8cc5",
   "metadata": {},
   "outputs": [],
   "source": []
  }
 ],
 "metadata": {
  "kernelspec": {
   "display_name": "Python 3 (ipykernel)",
   "language": "python",
   "name": "python3"
  },
  "language_info": {
   "codemirror_mode": {
    "name": "ipython",
    "version": 3
   },
   "file_extension": ".py",
   "mimetype": "text/x-python",
   "name": "python",
   "nbconvert_exporter": "python",
   "pygments_lexer": "ipython3",
   "version": "3.9.12"
  }
 },
 "nbformat": 4,
 "nbformat_minor": 5
}
